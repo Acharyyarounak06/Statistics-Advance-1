{
  "nbformat": 4,
  "nbformat_minor": 0,
  "metadata": {
    "colab": {
      "provenance": []
    },
    "kernelspec": {
      "name": "python3",
      "display_name": "Python 3"
    },
    "language_info": {
      "name": "python"
    }
  },
  "cells": [
    {
      "cell_type": "code",
      "execution_count": null,
      "metadata": {
        "id": "YKG_ht7b6nO3"
      },
      "outputs": [],
      "source": [
        "# Read answers of given questions."
      ]
    },
    {
      "cell_type": "code",
      "source": [
        "# Q1) Explain the properties of the F-distribution.\n",
        "# Ans. The properties of F-distribution is:\n",
        "# 1. Positively skewed (not symmetric).\n",
        "# 2. Starts at 0 (no negative values).\n",
        "# 3. Shape depends on two degrees of freedom: numerator (df₁) and denominator (df₂).\n",
        "# 4. Used for comparing variances."
      ],
      "metadata": {
        "id": "tXPXC9NjptYW"
      },
      "execution_count": null,
      "outputs": []
    },
    {
      "cell_type": "code",
      "source": [
        "# Q2) In which types of statistical tests is the F-distribution used, and why is it appropriate for these tests?\n",
        "# Ans.\n",
        "# Used in:\n",
        "\n",
        "# F-test for comparing variances between two populations\n",
        "\n",
        "# ANOVA (Analysis of Variance) to compare means of 3+ groups\n",
        "\n",
        "# Why appropriate:\n",
        "\n",
        "# The F-statistic is a ratio of two variances. Since variances are always positive, the F-distribution (which is right-skewed) appropriately models these scenarios."
      ],
      "metadata": {
        "id": "h_xcSjmks0rW"
      },
      "execution_count": null,
      "outputs": []
    },
    {
      "cell_type": "code",
      "source": [
        "# Q3)  What are the key assumptions required for conducting an F-test to compare the variances of two populations?\n",
        "# Ans.\n",
        "# Independence: Samples must be independent of each other.\n",
        "\n",
        "# Normality: Both populations should be normally distributed.\n",
        "\n",
        "# Scale: Data should be measured on an interval or ratio scale.\n",
        "\n",
        "# Random Sampling: Samples must be randomly selected."
      ],
      "metadata": {
        "id": "TxpqfAE9Qxlm"
      },
      "execution_count": null,
      "outputs": []
    },
    {
      "cell_type": "code",
      "source": [
        "# Q4) What is the purpose of ANOVA, and how does it differ from a t-test?\n",
        "# Ans.\n",
        "# Purpose of ANOVA: To determine if there are significant differences between the means of three or more groups.\n",
        "\n",
        "# Difference from t-test:\n",
        "\n",
        "# T-test compares means of two groups.\n",
        "\n",
        "# ANOVA compares means of three or more groups in one test, reducing the risk of Type I error."
      ],
      "metadata": {
        "id": "a6gzGZ_6RbXb"
      },
      "execution_count": null,
      "outputs": []
    },
    {
      "cell_type": "code",
      "source": [
        "# Q5)  Explain when and why you would use a one-way ANOVA instead of multiple t-tests when comparing more than two groups.\n",
        "# Ans.\n",
        "# Use one-way ANOVA when comparing three or more groups because:\n",
        "\n",
        "# It controls Type I error (false positives), which increases with multiple t-tests.\n",
        "\n",
        "# It is more efficient and provides a single test to check for any significant differences among all group means."
      ],
      "metadata": {
        "id": "wI9wovR_Rxb9"
      },
      "execution_count": null,
      "outputs": []
    },
    {
      "cell_type": "code",
      "source": [
        "# Q6) Explain how variance is partitioned in ANOVA into between-group variance and within-group variance. How does this partitioning contribute to the calculation of the F-statistic?\n",
        "# Ans.\n",
        "# In ANOVA, total variance is split into:\n",
        "\n",
        "# Between-group variance: Variation due to differences between group means.\n",
        "\n",
        "# Within-group variance: Variation within each group (random/error variation).\n",
        "\n",
        "# The F-statistic is calculated as:\n",
        "\n",
        "# 𝐹\n",
        "# =\n",
        "# Between-group variance (MSB)\n",
        "# Within-group variance (MSW)\n",
        "# F=\n",
        "# Within-group variance (MSW)\n",
        "# Between-group variance (MSB)\n",
        "# ​\n",
        "\n",
        "# A higher F-value suggests greater differences between groups relative to within-group variation."
      ],
      "metadata": {
        "id": "XKX3Va_2SgD5"
      },
      "execution_count": null,
      "outputs": []
    },
    {
      "cell_type": "code",
      "source": [
        "# Q7) Compare the classical (frequentist) approach to ANOVA with the Bayesian approach. What are the key differences in terms of how they handle uncertainty, parameter estimation, and hypothesis testing?\n",
        "# Ans.\n",
        "# Classical (Frequentist) ANOVA vs. Bayesian ANOVA – Key Differences (in short):\n",
        "\n",
        "# Aspect\tFrequentist ANOVA\tBayesian ANOVA\n",
        "# Uncertainty\tFixed parameters, uncertainty in data\tParameters treated as random variables\n",
        "# Estimation\tPoint estimates (e.g., means, variances)\tPosterior distributions of parameters\n",
        "# Hypothesis Test\tUses F-statistic and p-values\tUses Bayes factors or posterior probs"
      ],
      "metadata": {
        "id": "1NQad2CoVRXu"
      },
      "execution_count": null,
      "outputs": []
    },
    {
      "cell_type": "code",
      "source": [
        "# Q8)\n",
        "import numpy as np\n",
        "from scipy import stats\n",
        "\n",
        "# Incomes\n",
        "profession_a = [48, 52, 55, 60, 62]\n",
        "profession_b = [45, 50, 55, 52, 47]\n",
        "\n",
        "# Sample sizes\n",
        "n1 = len(profession_a)\n",
        "n2 = len(profession_b)\n",
        "\n",
        "# Variances (unbiased)\n",
        "var_a = np.var(profession_a, ddof=1)\n",
        "var_b = np.var(profession_b, ddof=1)\n",
        "\n",
        "# F-statistic (larger variance / smaller variance)\n",
        "if var_a > var_b:\n",
        "    f_stat = var_a / var_b\n",
        "    dfn, dfd = n1 - 1, n2 - 1\n",
        "else:\n",
        "    f_stat = var_b / var_a\n",
        "    dfn, dfd = n2 - 1, n1 - 1\n",
        "\n",
        "# p-value (two-tailed)\n",
        "p_value = 2 * (1 - stats.f.cdf(f_stat, dfn, dfd))\n",
        "\n",
        "# Output\n",
        "print(f\"F-statistic: {f_stat:.4f}\")\n",
        "print(f\"P-value: {p_value:.4f}\")\n",
        "\n",
        "\n",
        "# If p-value < 0.05: Variances are significantly different → reject H₀\n",
        "\n",
        "# If p-value ≥ 0.05: No significant difference → fail to reject H₀"
      ],
      "metadata": {
        "colab": {
          "base_uri": "https://localhost:8080/"
        },
        "id": "LLXTyS6TV8Sg",
        "outputId": "96d42479-ce70-4a2b-9cd7-7a627f221af2"
      },
      "execution_count": 2,
      "outputs": [
        {
          "output_type": "stream",
          "name": "stdout",
          "text": [
            "F-statistic: 2.0892\n",
            "P-value: 0.4930\n"
          ]
        }
      ]
    },
    {
      "cell_type": "code",
      "source": [
        "# Q9)\n",
        "from scipy import stats\n",
        "\n",
        "# Heights data\n",
        "region_a = [160, 162, 165, 158, 164]\n",
        "region_b = [172, 175, 170, 168, 174]\n",
        "region_c = [180, 182, 179, 185, 183]\n",
        "\n",
        "# One-way ANOVA\n",
        "f_stat, p_value = stats.f_oneway(region_a, region_b, region_c)\n",
        "\n",
        "# Output\n",
        "print(f\"F-statistic: {f_stat:.4f}\")\n",
        "print(f\"P-value: {p_value:.4f}\")\n",
        "\n",
        "\n",
        "# If p-value < 0.05 → At least one region’s average height is significantly different → reject H₀\n",
        "\n",
        "# If p-value ≥ 0.05 → No significant difference → fail to reject H₀"
      ],
      "metadata": {
        "colab": {
          "base_uri": "https://localhost:8080/"
        },
        "id": "rl26X6vJWZo8",
        "outputId": "b83639f1-7349-4b32-af87-adfe5c840d71"
      },
      "execution_count": 3,
      "outputs": [
        {
          "output_type": "stream",
          "name": "stdout",
          "text": [
            "F-statistic: 67.8733\n",
            "P-value: 0.0000\n"
          ]
        }
      ]
    },
    {
      "cell_type": "code",
      "source": [],
      "metadata": {
        "id": "yVyai7UPWxrU"
      },
      "execution_count": null,
      "outputs": []
    }
  ]
}